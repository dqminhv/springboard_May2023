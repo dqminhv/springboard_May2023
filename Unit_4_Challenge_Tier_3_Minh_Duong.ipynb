{
  "nbformat": 4,
  "nbformat_minor": 0,
  "metadata": {
    "kernelspec": {
      "display_name": "Python 3",
      "language": "python",
      "name": "python3"
    },
    "language_info": {
      "codemirror_mode": {
        "name": "ipython",
        "version": 3
      },
      "file_extension": ".py",
      "mimetype": "text/x-python",
      "name": "python",
      "nbconvert_exporter": "python",
      "pygments_lexer": "ipython3",
      "version": "3.7.3"
    },
    "colab": {
      "provenance": []
    }
  },
  "cells": [
    {
      "cell_type": "markdown",
      "metadata": {
        "id": "Tia3MP1SJpgj"
      },
      "source": [
        "# Springboard Data Science Career Track Unit 4 Challenge - Tier 3 Complete\n",
        "\n",
        "## Objectives\n",
        "Hey! Great job getting through those challenging DataCamp courses. You're learning a lot in a short span of time. \n",
        "\n",
        "In this notebook, you're going to apply the skills you've been learning, bridging the gap between the controlled environment of DataCamp and the *slightly* messier work that data scientists do with actual datasets!\n",
        "\n",
        "Here’s the mystery we’re going to solve: ***which boroughs of London have seen the greatest increase in housing prices, on average, over the last two decades?***\n",
        "\n",
        "\n",
        "A borough is just a fancy word for district. You may be familiar with the five boroughs of New York… well, there are 32 boroughs within Greater London [(here's some info for the curious)](https://en.wikipedia.org/wiki/London_boroughs). Some of them are more desirable areas to live in, and the data will reflect that with a greater rise in housing prices.\n",
        "\n",
        "***This is the Tier 3 notebook, which means it's not filled in at all: we'll just give you the skeleton of a project, the brief and the data. It's up to you to play around with it and see what you can find out! Good luck! If you struggle, feel free to look at easier tiers for help; but try to dip in and out of them, as the more independent work you do, the better it is for your learning!***\n",
        "\n",
        "This challenge will make use of only what you learned in the following DataCamp courses: \n",
        "- Prework courses (Introduction to Python for Data Science, Intermediate Python for Data Science)\n",
        "- Data Types for Data Science\n",
        "- Python Data Science Toolbox (Part One) \n",
        "- pandas Foundations\n",
        "- Manipulating DataFrames with pandas\n",
        "- Merging DataFrames with pandas\n",
        "\n",
        "Of the tools, techniques and concepts in the above DataCamp courses, this challenge should require the application of the following: \n",
        "- **pandas**\n",
        "    - **data ingestion and inspection** (pandas Foundations, Module One) \n",
        "    - **exploratory data analysis** (pandas Foundations, Module Two)\n",
        "    - **tidying and cleaning** (Manipulating DataFrames with pandas, Module Three) \n",
        "    - **transforming DataFrames** (Manipulating DataFrames with pandas, Module One)\n",
        "    - **subsetting DataFrames with lists** (Manipulating DataFrames with pandas, Module One) \n",
        "    - **filtering DataFrames** (Manipulating DataFrames with pandas, Module One) \n",
        "    - **grouping data** (Manipulating DataFrames with pandas, Module Four) \n",
        "    - **melting data** (Manipulating DataFrames with pandas, Module Three) \n",
        "    - **advanced indexing** (Manipulating DataFrames with pandas, Module Four) \n",
        "- **matplotlib** (Intermediate Python for Data Science, Module One)\n",
        "- **fundamental data types** (Data Types for Data Science, Module One) \n",
        "- **dictionaries** (Intermediate Python for Data Science, Module Two)\n",
        "- **handling dates and times** (Data Types for Data Science, Module Four)\n",
        "- **function definition** (Python Data Science Toolbox - Part One, Module One)\n",
        "- **default arguments, variable length, and scope** (Python Data Science Toolbox - Part One, Module Two) \n",
        "- **lambda functions and error handling** (Python Data Science Toolbox - Part One, Module Four) "
      ]
    },
    {
      "cell_type": "markdown",
      "metadata": {
        "id": "Ipgd2nV8Jpgl"
      },
      "source": [
        "## The Data Science Pipeline\n",
        "\n",
        "This is Tier Three, so we'll get you started. But after that, it's all in your hands! When you feel done with your investigations, look back over what you've accomplished, and prepare a quick presentation of your findings for the next mentor meeting. \n",
        "\n",
        "Data Science is magical. In this case study, you'll get to apply some complex machine learning algorithms. But as  [David Spiegelhalter](https://www.youtube.com/watch?v=oUs1uvsz0Ok) reminds us, there is no substitute for simply **taking a really, really good look at the data.** Sometimes, this is all we need to answer our question.\n",
        "\n",
        "Data Science projects generally adhere to the four stages of Data Science Pipeline:\n",
        "1. Sourcing and loading \n",
        "2. Cleaning, transforming, and visualizing \n",
        "3. Modeling \n",
        "4. Evaluating and concluding \n"
      ]
    },
    {
      "cell_type": "markdown",
      "metadata": {
        "id": "zswDqbefJpgm"
      },
      "source": [
        "### 1. Sourcing and Loading \n",
        "\n",
        "Any Data Science project kicks off by importing  ***pandas***. The documentation of this wonderful library can be found [here](https://pandas.pydata.org/). As you've seen, pandas is conveniently connected to the [Numpy](http://www.numpy.org/) and [Matplotlib](https://matplotlib.org/) libraries. \n",
        "\n",
        "***Hint:*** This part of the data science pipeline will test those skills you acquired in the pandas Foundations course, Module One. "
      ]
    },
    {
      "cell_type": "markdown",
      "metadata": {
        "id": "aEau5nEvJpgm"
      },
      "source": [
        "#### 1.1. Importing Libraries"
      ]
    },
    {
      "cell_type": "code",
      "metadata": {
        "id": "7Bt_Q_oPJpgn"
      },
      "source": [
        "# Let's import the pandas, numpy libraries as pd, and np respectively. \n",
        "\n",
        "import pandas as pd\n",
        "import numpy as np\n",
        "# Load the pyplot collection of functions from matplotlib, as plt \n",
        "import matplotlib.pyplot as plt\n"
      ],
      "execution_count": 13,
      "outputs": []
    },
    {
      "cell_type": "markdown",
      "metadata": {
        "id": "koUrawxsJpgq"
      },
      "source": [
        "#### 1.2.  Loading the data\n",
        "Your data comes from the [London Datastore](https://data.london.gov.uk/): a free, open-source data-sharing portal for London-oriented datasets. "
      ]
    },
    {
      "cell_type": "code",
      "metadata": {
        "id": "AiLiD4v3Jpgr"
      },
      "source": [
        "# First, make a variable called url_LondonHousePrices, and assign it the following link, enclosed in quotation-marks as a string:\n",
        "# https://data.london.gov.uk/download/uk-house-price-index/70ac0766-8902-4eb5-aab5-01951aaed773/UK%20House%20price%20index.xls\n",
        "\n",
        "url_LondonHousePrices = \"https://data.london.gov.uk/download/uk-house-price-index/70ac0766-8902-4eb5-aab5-01951aaed773/UK%20House%20price%20index.xls\"\n",
        "\n",
        "# The dataset we're interested in contains the Average prices of the houses, and is actually on a particular sheet of the Excel file. \n",
        "# As a result, we need to specify the sheet name in the read_excel() method.\n",
        "# Put this data into a variable called properties.  \n",
        "properties = pd.read_excel(url_LondonHousePrices, sheet_name='Average price', index_col= None)"
      ],
      "execution_count": 14,
      "outputs": []
    },
    {
      "cell_type": "markdown",
      "metadata": {
        "id": "POukEJXgJpgu"
      },
      "source": [
        "### 2. Cleaning, transforming, and visualizing\n",
        "This second stage is arguably the most important part of any Data Science project. The first thing to do is take a proper look at the data. Cleaning forms the majority of this stage, and can be done both before or after Transformation.\n",
        "\n",
        "The end goal of data cleaning is to have tidy data. When data is tidy: \n",
        "\n",
        "1. Each variable has a column.\n",
        "2. Each observation forms a row.\n",
        "\n",
        "Keep the end goal in mind as you move through this process, every step will take you closer. \n",
        "\n",
        "\n",
        "\n",
        "***Hint:*** This part of the data science pipeline should test those skills you acquired in: \n",
        "- Intermediate Python for data science, all modules.\n",
        "- pandas Foundations, all modules. \n",
        "- Manipulating DataFrames with pandas, all modules.\n",
        "- Data Types for Data Science, Module Four.\n",
        "- Python Data Science Toolbox - Part One, all modules"
      ]
    },
    {
      "cell_type": "markdown",
      "metadata": {
        "id": "Te0Q548tnzZa"
      },
      "source": [
        "**2.1. Exploring your data** \n",
        "\n",
        "Think about your pandas functions for checking out a dataframe. "
      ]
    },
    {
      "cell_type": "code",
      "metadata": {
        "id": "Rxirxw_qoAJa",
        "colab": {
          "base_uri": "https://localhost:8080/",
          "height": 403
        },
        "outputId": "6a0966a1-e2db-41c1-b6c0-37e9e47c1cd1"
      },
      "source": [
        "properties.shape\n",
        "properties.head()\n"
      ],
      "execution_count": 15,
      "outputs": [
        {
          "output_type": "execute_result",
          "data": {
            "text/plain": [
              "  Unnamed: 0 City of London Barking & Dagenham       Barnet       Bexley  \\\n",
              "0        NaT      E09000001          E09000002    E09000003    E09000004   \n",
              "1 1995-01-01    91448.98487         50460.2266  93284.51832  64958.09036   \n",
              "2 1995-02-01    82202.77314        51085.77983  93190.16963  64787.92069   \n",
              "3 1995-03-01    79120.70256        51268.96956  92247.52435  64367.49344   \n",
              "4 1995-04-01    77101.20804        53133.50526  90762.87492  64277.66881   \n",
              "\n",
              "         Brent      Bromley       Camden      Croydon       Ealing  ...  \\\n",
              "0    E09000005    E09000006    E09000007    E09000008    E09000009  ...   \n",
              "1  71306.56698  81671.47692  120932.8881  69158.16225  79885.89069  ...   \n",
              "2  72022.26197  81657.55944  119508.8622  68951.09542  80897.06551  ...   \n",
              "3  72015.76274  81449.31143  120282.2131  68712.44341  81379.86288  ...   \n",
              "4  72965.63094  81124.41227   120097.899  68610.04641  82188.90498  ...   \n",
              "\n",
              "    NORTH WEST YORKS & THE HUMBER EAST MIDLANDS WEST MIDLANDS EAST OF ENGLAND  \\\n",
              "0    E12000002          E12000003     E12000004     E12000005       E12000006   \n",
              "1  43958.48001        44803.42878   45544.52227   48527.52339      56701.5961   \n",
              "2  43925.42289        44528.80721   46051.57066   49341.29029     56593.59475   \n",
              "3   44434.8681        45200.46775   45383.82395   49442.17973     56171.18278   \n",
              "4   44267.7796        45614.34341   46124.23045   49455.93299     56567.89582   \n",
              "\n",
              "        LONDON   SOUTH EAST   SOUTH WEST Unnamed: 47      England  \n",
              "0    E12000007    E12000008    E12000009         NaN    E92000001  \n",
              "1  74435.76052  64018.87894   54705.1579         NaN  53202.77128  \n",
              "2  72777.93709  63715.02399  54356.14843         NaN   53096.1549  \n",
              "3  73896.84204  64113.60858  53583.07667         NaN   53201.2843  \n",
              "4  74455.28754  64623.22395  54786.01938         NaN   53590.8548  \n",
              "\n",
              "[5 rows x 49 columns]"
            ],
            "text/html": [
              "\n",
              "  <div id=\"df-f42d2d9e-b106-4f78-bfed-17a6d291f763\">\n",
              "    <div class=\"colab-df-container\">\n",
              "      <div>\n",
              "<style scoped>\n",
              "    .dataframe tbody tr th:only-of-type {\n",
              "        vertical-align: middle;\n",
              "    }\n",
              "\n",
              "    .dataframe tbody tr th {\n",
              "        vertical-align: top;\n",
              "    }\n",
              "\n",
              "    .dataframe thead th {\n",
              "        text-align: right;\n",
              "    }\n",
              "</style>\n",
              "<table border=\"1\" class=\"dataframe\">\n",
              "  <thead>\n",
              "    <tr style=\"text-align: right;\">\n",
              "      <th></th>\n",
              "      <th>Unnamed: 0</th>\n",
              "      <th>City of London</th>\n",
              "      <th>Barking &amp; Dagenham</th>\n",
              "      <th>Barnet</th>\n",
              "      <th>Bexley</th>\n",
              "      <th>Brent</th>\n",
              "      <th>Bromley</th>\n",
              "      <th>Camden</th>\n",
              "      <th>Croydon</th>\n",
              "      <th>Ealing</th>\n",
              "      <th>...</th>\n",
              "      <th>NORTH WEST</th>\n",
              "      <th>YORKS &amp; THE HUMBER</th>\n",
              "      <th>EAST MIDLANDS</th>\n",
              "      <th>WEST MIDLANDS</th>\n",
              "      <th>EAST OF ENGLAND</th>\n",
              "      <th>LONDON</th>\n",
              "      <th>SOUTH EAST</th>\n",
              "      <th>SOUTH WEST</th>\n",
              "      <th>Unnamed: 47</th>\n",
              "      <th>England</th>\n",
              "    </tr>\n",
              "  </thead>\n",
              "  <tbody>\n",
              "    <tr>\n",
              "      <th>0</th>\n",
              "      <td>NaT</td>\n",
              "      <td>E09000001</td>\n",
              "      <td>E09000002</td>\n",
              "      <td>E09000003</td>\n",
              "      <td>E09000004</td>\n",
              "      <td>E09000005</td>\n",
              "      <td>E09000006</td>\n",
              "      <td>E09000007</td>\n",
              "      <td>E09000008</td>\n",
              "      <td>E09000009</td>\n",
              "      <td>...</td>\n",
              "      <td>E12000002</td>\n",
              "      <td>E12000003</td>\n",
              "      <td>E12000004</td>\n",
              "      <td>E12000005</td>\n",
              "      <td>E12000006</td>\n",
              "      <td>E12000007</td>\n",
              "      <td>E12000008</td>\n",
              "      <td>E12000009</td>\n",
              "      <td>NaN</td>\n",
              "      <td>E92000001</td>\n",
              "    </tr>\n",
              "    <tr>\n",
              "      <th>1</th>\n",
              "      <td>1995-01-01</td>\n",
              "      <td>91448.98487</td>\n",
              "      <td>50460.2266</td>\n",
              "      <td>93284.51832</td>\n",
              "      <td>64958.09036</td>\n",
              "      <td>71306.56698</td>\n",
              "      <td>81671.47692</td>\n",
              "      <td>120932.8881</td>\n",
              "      <td>69158.16225</td>\n",
              "      <td>79885.89069</td>\n",
              "      <td>...</td>\n",
              "      <td>43958.48001</td>\n",
              "      <td>44803.42878</td>\n",
              "      <td>45544.52227</td>\n",
              "      <td>48527.52339</td>\n",
              "      <td>56701.5961</td>\n",
              "      <td>74435.76052</td>\n",
              "      <td>64018.87894</td>\n",
              "      <td>54705.1579</td>\n",
              "      <td>NaN</td>\n",
              "      <td>53202.77128</td>\n",
              "    </tr>\n",
              "    <tr>\n",
              "      <th>2</th>\n",
              "      <td>1995-02-01</td>\n",
              "      <td>82202.77314</td>\n",
              "      <td>51085.77983</td>\n",
              "      <td>93190.16963</td>\n",
              "      <td>64787.92069</td>\n",
              "      <td>72022.26197</td>\n",
              "      <td>81657.55944</td>\n",
              "      <td>119508.8622</td>\n",
              "      <td>68951.09542</td>\n",
              "      <td>80897.06551</td>\n",
              "      <td>...</td>\n",
              "      <td>43925.42289</td>\n",
              "      <td>44528.80721</td>\n",
              "      <td>46051.57066</td>\n",
              "      <td>49341.29029</td>\n",
              "      <td>56593.59475</td>\n",
              "      <td>72777.93709</td>\n",
              "      <td>63715.02399</td>\n",
              "      <td>54356.14843</td>\n",
              "      <td>NaN</td>\n",
              "      <td>53096.1549</td>\n",
              "    </tr>\n",
              "    <tr>\n",
              "      <th>3</th>\n",
              "      <td>1995-03-01</td>\n",
              "      <td>79120.70256</td>\n",
              "      <td>51268.96956</td>\n",
              "      <td>92247.52435</td>\n",
              "      <td>64367.49344</td>\n",
              "      <td>72015.76274</td>\n",
              "      <td>81449.31143</td>\n",
              "      <td>120282.2131</td>\n",
              "      <td>68712.44341</td>\n",
              "      <td>81379.86288</td>\n",
              "      <td>...</td>\n",
              "      <td>44434.8681</td>\n",
              "      <td>45200.46775</td>\n",
              "      <td>45383.82395</td>\n",
              "      <td>49442.17973</td>\n",
              "      <td>56171.18278</td>\n",
              "      <td>73896.84204</td>\n",
              "      <td>64113.60858</td>\n",
              "      <td>53583.07667</td>\n",
              "      <td>NaN</td>\n",
              "      <td>53201.2843</td>\n",
              "    </tr>\n",
              "    <tr>\n",
              "      <th>4</th>\n",
              "      <td>1995-04-01</td>\n",
              "      <td>77101.20804</td>\n",
              "      <td>53133.50526</td>\n",
              "      <td>90762.87492</td>\n",
              "      <td>64277.66881</td>\n",
              "      <td>72965.63094</td>\n",
              "      <td>81124.41227</td>\n",
              "      <td>120097.899</td>\n",
              "      <td>68610.04641</td>\n",
              "      <td>82188.90498</td>\n",
              "      <td>...</td>\n",
              "      <td>44267.7796</td>\n",
              "      <td>45614.34341</td>\n",
              "      <td>46124.23045</td>\n",
              "      <td>49455.93299</td>\n",
              "      <td>56567.89582</td>\n",
              "      <td>74455.28754</td>\n",
              "      <td>64623.22395</td>\n",
              "      <td>54786.01938</td>\n",
              "      <td>NaN</td>\n",
              "      <td>53590.8548</td>\n",
              "    </tr>\n",
              "  </tbody>\n",
              "</table>\n",
              "<p>5 rows × 49 columns</p>\n",
              "</div>\n",
              "      <button class=\"colab-df-convert\" onclick=\"convertToInteractive('df-f42d2d9e-b106-4f78-bfed-17a6d291f763')\"\n",
              "              title=\"Convert this dataframe to an interactive table.\"\n",
              "              style=\"display:none;\">\n",
              "        \n",
              "  <svg xmlns=\"http://www.w3.org/2000/svg\" height=\"24px\"viewBox=\"0 0 24 24\"\n",
              "       width=\"24px\">\n",
              "    <path d=\"M0 0h24v24H0V0z\" fill=\"none\"/>\n",
              "    <path d=\"M18.56 5.44l.94 2.06.94-2.06 2.06-.94-2.06-.94-.94-2.06-.94 2.06-2.06.94zm-11 1L8.5 8.5l.94-2.06 2.06-.94-2.06-.94L8.5 2.5l-.94 2.06-2.06.94zm10 10l.94 2.06.94-2.06 2.06-.94-2.06-.94-.94-2.06-.94 2.06-2.06.94z\"/><path d=\"M17.41 7.96l-1.37-1.37c-.4-.4-.92-.59-1.43-.59-.52 0-1.04.2-1.43.59L10.3 9.45l-7.72 7.72c-.78.78-.78 2.05 0 2.83L4 21.41c.39.39.9.59 1.41.59.51 0 1.02-.2 1.41-.59l7.78-7.78 2.81-2.81c.8-.78.8-2.07 0-2.86zM5.41 20L4 18.59l7.72-7.72 1.47 1.35L5.41 20z\"/>\n",
              "  </svg>\n",
              "      </button>\n",
              "      \n",
              "  <style>\n",
              "    .colab-df-container {\n",
              "      display:flex;\n",
              "      flex-wrap:wrap;\n",
              "      gap: 12px;\n",
              "    }\n",
              "\n",
              "    .colab-df-convert {\n",
              "      background-color: #E8F0FE;\n",
              "      border: none;\n",
              "      border-radius: 50%;\n",
              "      cursor: pointer;\n",
              "      display: none;\n",
              "      fill: #1967D2;\n",
              "      height: 32px;\n",
              "      padding: 0 0 0 0;\n",
              "      width: 32px;\n",
              "    }\n",
              "\n",
              "    .colab-df-convert:hover {\n",
              "      background-color: #E2EBFA;\n",
              "      box-shadow: 0px 1px 2px rgba(60, 64, 67, 0.3), 0px 1px 3px 1px rgba(60, 64, 67, 0.15);\n",
              "      fill: #174EA6;\n",
              "    }\n",
              "\n",
              "    [theme=dark] .colab-df-convert {\n",
              "      background-color: #3B4455;\n",
              "      fill: #D2E3FC;\n",
              "    }\n",
              "\n",
              "    [theme=dark] .colab-df-convert:hover {\n",
              "      background-color: #434B5C;\n",
              "      box-shadow: 0px 1px 3px 1px rgba(0, 0, 0, 0.15);\n",
              "      filter: drop-shadow(0px 1px 2px rgba(0, 0, 0, 0.3));\n",
              "      fill: #FFFFFF;\n",
              "    }\n",
              "  </style>\n",
              "\n",
              "      <script>\n",
              "        const buttonEl =\n",
              "          document.querySelector('#df-f42d2d9e-b106-4f78-bfed-17a6d291f763 button.colab-df-convert');\n",
              "        buttonEl.style.display =\n",
              "          google.colab.kernel.accessAllowed ? 'block' : 'none';\n",
              "\n",
              "        async function convertToInteractive(key) {\n",
              "          const element = document.querySelector('#df-f42d2d9e-b106-4f78-bfed-17a6d291f763');\n",
              "          const dataTable =\n",
              "            await google.colab.kernel.invokeFunction('convertToInteractive',\n",
              "                                                     [key], {});\n",
              "          if (!dataTable) return;\n",
              "\n",
              "          const docLinkHtml = 'Like what you see? Visit the ' +\n",
              "            '<a target=\"_blank\" href=https://colab.research.google.com/notebooks/data_table.ipynb>data table notebook</a>'\n",
              "            + ' to learn more about interactive tables.';\n",
              "          element.innerHTML = '';\n",
              "          dataTable['output_type'] = 'display_data';\n",
              "          await google.colab.output.renderOutput(dataTable, element);\n",
              "          const docLink = document.createElement('div');\n",
              "          docLink.innerHTML = docLinkHtml;\n",
              "          element.appendChild(docLink);\n",
              "        }\n",
              "      </script>\n",
              "    </div>\n",
              "  </div>\n",
              "  "
            ]
          },
          "metadata": {},
          "execution_count": 15
        }
      ]
    },
    {
      "cell_type": "markdown",
      "metadata": {
        "id": "tE9Sqt9-oAta"
      },
      "source": [
        "**2.2. Cleaning the data**\n",
        "\n",
        "You might find you need to transpose your dataframe, check out what its row indexes are, and reset the index. You  also might find you need to assign the values of the first row to your column headings  . (Hint: recall the .columns feature of DataFrames, as well as the iloc[] method).\n",
        "\n",
        "Don't be afraid to use StackOverflow for help  with this."
      ]
    },
    {
      "cell_type": "code",
      "metadata": {
        "id": "cdAu1A3YoH_r"
      },
      "source": [
        "properties_T = properties.T \n",
        "properties_T.head()\n",
        "\n",
        "properties_T = properties_T.reset_index() \n",
        "properties_T.index\n",
        "properties_T.columns = properties_T.iloc[0]\n"
      ],
      "execution_count": 25,
      "outputs": []
    },
    {
      "cell_type": "markdown",
      "metadata": {
        "id": "o1uLbJAsoIjK"
      },
      "source": [
        "**2.3. Cleaning the data (part 2)**\n",
        "\n",
        "You might we have to **rename** a couple columns. How do you do this? The clue's pretty bold..."
      ]
    },
    {
      "cell_type": "code",
      "metadata": {
        "id": "GKkmn1AnoVZS",
        "colab": {
          "base_uri": "https://localhost:8080/",
          "height": 351
        },
        "outputId": "82ca9344-9631-4c97-afb0-85da84e1b675"
      },
      "source": [
        "properties_T = properties_T.drop(0) \n",
        "properties_T = properties_T.rename(columns = {'Unnamed: 0':'London_Borough', pd.NaT: 'ID'})\n",
        "properties_T.head()"
      ],
      "execution_count": 26,
      "outputs": [
        {
          "output_type": "execute_result",
          "data": {
            "text/plain": [
              "0      London_Borough         ID 1995-01-01 00:00:00 1995-02-01 00:00:00  \\\n",
              "1      City of London  E09000001         91448.98487         82202.77314   \n",
              "2  Barking & Dagenham  E09000002          50460.2266         51085.77983   \n",
              "3              Barnet  E09000003         93284.51832         93190.16963   \n",
              "4              Bexley  E09000004         64958.09036         64787.92069   \n",
              "5               Brent  E09000005         71306.56698         72022.26197   \n",
              "\n",
              "0 1995-03-01 00:00:00 1995-04-01 00:00:00 1995-05-01 00:00:00  \\\n",
              "1         79120.70256         77101.20804         84409.14932   \n",
              "2         51268.96956         53133.50526         53042.24852   \n",
              "3         92247.52435         90762.87492         90258.00033   \n",
              "4         64367.49344         64277.66881         63997.13588   \n",
              "5         72015.76274         72965.63094         73704.04743   \n",
              "\n",
              "0 1995-06-01 00:00:00 1995-07-01 00:00:00 1995-08-01 00:00:00  ...  \\\n",
              "1         94900.51244         110128.0423         112329.4376  ...   \n",
              "2         53700.34831         52113.12157         52232.19868  ...   \n",
              "3         90107.23471         91441.24768         92361.31512  ...   \n",
              "4         64252.32335         63722.70055         64432.60005  ...   \n",
              "5         74310.48167         74127.03788          73547.0411  ...   \n",
              "\n",
              "0 2022-06-01 00:00:00 2022-07-01 00:00:00 2022-08-01 00:00:00  \\\n",
              "1        817584.33516        823678.42301         851508.9627   \n",
              "2        344211.58225        349019.74947        350684.93126   \n",
              "3        587652.57456        589491.91507        600983.25425   \n",
              "4        388882.93861        394022.89593        400356.86436   \n",
              "5         534878.8481        550730.29995        559692.69097   \n",
              "\n",
              "0 2022-09-01 00:00:00 2022-10-01 00:00:00 2022-11-01 00:00:00  \\\n",
              "1        848510.48104        876104.51684        948498.14532   \n",
              "2        350132.29415        351786.71213        355142.44959   \n",
              "3        605828.46908        605053.28709        596174.87369   \n",
              "4         402704.6993        407097.04931        405578.41451   \n",
              "5         578082.6615        570146.90413        566137.79926   \n",
              "\n",
              "0 2022-12-01 00:00:00 2023-01-01 00:00:00 2023-02-01 00:00:00  \\\n",
              "1        926673.83411        940537.50192        843218.92839   \n",
              "2        355179.19508        351542.56074        344353.00525   \n",
              "3        601033.77667        603902.88471        608829.39401   \n",
              "4        406911.68217        399736.46196        400814.17362   \n",
              "5        559407.13925        556501.11179        543974.33399   \n",
              "\n",
              "0 2023-03-01 00:00:00  \n",
              "1          896600.654  \n",
              "2        346945.70957  \n",
              "3        598272.26714  \n",
              "4        403022.84703  \n",
              "5        530399.91639  \n",
              "\n",
              "[5 rows x 341 columns]"
            ],
            "text/html": [
              "\n",
              "  <div id=\"df-eecc4315-23dc-489b-a31d-1bf0beef9271\">\n",
              "    <div class=\"colab-df-container\">\n",
              "      <div>\n",
              "<style scoped>\n",
              "    .dataframe tbody tr th:only-of-type {\n",
              "        vertical-align: middle;\n",
              "    }\n",
              "\n",
              "    .dataframe tbody tr th {\n",
              "        vertical-align: top;\n",
              "    }\n",
              "\n",
              "    .dataframe thead th {\n",
              "        text-align: right;\n",
              "    }\n",
              "</style>\n",
              "<table border=\"1\" class=\"dataframe\">\n",
              "  <thead>\n",
              "    <tr style=\"text-align: right;\">\n",
              "      <th></th>\n",
              "      <th>London_Borough</th>\n",
              "      <th>ID</th>\n",
              "      <th>1995-01-01 00:00:00</th>\n",
              "      <th>1995-02-01 00:00:00</th>\n",
              "      <th>1995-03-01 00:00:00</th>\n",
              "      <th>1995-04-01 00:00:00</th>\n",
              "      <th>1995-05-01 00:00:00</th>\n",
              "      <th>1995-06-01 00:00:00</th>\n",
              "      <th>1995-07-01 00:00:00</th>\n",
              "      <th>1995-08-01 00:00:00</th>\n",
              "      <th>...</th>\n",
              "      <th>2022-06-01 00:00:00</th>\n",
              "      <th>2022-07-01 00:00:00</th>\n",
              "      <th>2022-08-01 00:00:00</th>\n",
              "      <th>2022-09-01 00:00:00</th>\n",
              "      <th>2022-10-01 00:00:00</th>\n",
              "      <th>2022-11-01 00:00:00</th>\n",
              "      <th>2022-12-01 00:00:00</th>\n",
              "      <th>2023-01-01 00:00:00</th>\n",
              "      <th>2023-02-01 00:00:00</th>\n",
              "      <th>2023-03-01 00:00:00</th>\n",
              "    </tr>\n",
              "  </thead>\n",
              "  <tbody>\n",
              "    <tr>\n",
              "      <th>1</th>\n",
              "      <td>City of London</td>\n",
              "      <td>E09000001</td>\n",
              "      <td>91448.98487</td>\n",
              "      <td>82202.77314</td>\n",
              "      <td>79120.70256</td>\n",
              "      <td>77101.20804</td>\n",
              "      <td>84409.14932</td>\n",
              "      <td>94900.51244</td>\n",
              "      <td>110128.0423</td>\n",
              "      <td>112329.4376</td>\n",
              "      <td>...</td>\n",
              "      <td>817584.33516</td>\n",
              "      <td>823678.42301</td>\n",
              "      <td>851508.9627</td>\n",
              "      <td>848510.48104</td>\n",
              "      <td>876104.51684</td>\n",
              "      <td>948498.14532</td>\n",
              "      <td>926673.83411</td>\n",
              "      <td>940537.50192</td>\n",
              "      <td>843218.92839</td>\n",
              "      <td>896600.654</td>\n",
              "    </tr>\n",
              "    <tr>\n",
              "      <th>2</th>\n",
              "      <td>Barking &amp; Dagenham</td>\n",
              "      <td>E09000002</td>\n",
              "      <td>50460.2266</td>\n",
              "      <td>51085.77983</td>\n",
              "      <td>51268.96956</td>\n",
              "      <td>53133.50526</td>\n",
              "      <td>53042.24852</td>\n",
              "      <td>53700.34831</td>\n",
              "      <td>52113.12157</td>\n",
              "      <td>52232.19868</td>\n",
              "      <td>...</td>\n",
              "      <td>344211.58225</td>\n",
              "      <td>349019.74947</td>\n",
              "      <td>350684.93126</td>\n",
              "      <td>350132.29415</td>\n",
              "      <td>351786.71213</td>\n",
              "      <td>355142.44959</td>\n",
              "      <td>355179.19508</td>\n",
              "      <td>351542.56074</td>\n",
              "      <td>344353.00525</td>\n",
              "      <td>346945.70957</td>\n",
              "    </tr>\n",
              "    <tr>\n",
              "      <th>3</th>\n",
              "      <td>Barnet</td>\n",
              "      <td>E09000003</td>\n",
              "      <td>93284.51832</td>\n",
              "      <td>93190.16963</td>\n",
              "      <td>92247.52435</td>\n",
              "      <td>90762.87492</td>\n",
              "      <td>90258.00033</td>\n",
              "      <td>90107.23471</td>\n",
              "      <td>91441.24768</td>\n",
              "      <td>92361.31512</td>\n",
              "      <td>...</td>\n",
              "      <td>587652.57456</td>\n",
              "      <td>589491.91507</td>\n",
              "      <td>600983.25425</td>\n",
              "      <td>605828.46908</td>\n",
              "      <td>605053.28709</td>\n",
              "      <td>596174.87369</td>\n",
              "      <td>601033.77667</td>\n",
              "      <td>603902.88471</td>\n",
              "      <td>608829.39401</td>\n",
              "      <td>598272.26714</td>\n",
              "    </tr>\n",
              "    <tr>\n",
              "      <th>4</th>\n",
              "      <td>Bexley</td>\n",
              "      <td>E09000004</td>\n",
              "      <td>64958.09036</td>\n",
              "      <td>64787.92069</td>\n",
              "      <td>64367.49344</td>\n",
              "      <td>64277.66881</td>\n",
              "      <td>63997.13588</td>\n",
              "      <td>64252.32335</td>\n",
              "      <td>63722.70055</td>\n",
              "      <td>64432.60005</td>\n",
              "      <td>...</td>\n",
              "      <td>388882.93861</td>\n",
              "      <td>394022.89593</td>\n",
              "      <td>400356.86436</td>\n",
              "      <td>402704.6993</td>\n",
              "      <td>407097.04931</td>\n",
              "      <td>405578.41451</td>\n",
              "      <td>406911.68217</td>\n",
              "      <td>399736.46196</td>\n",
              "      <td>400814.17362</td>\n",
              "      <td>403022.84703</td>\n",
              "    </tr>\n",
              "    <tr>\n",
              "      <th>5</th>\n",
              "      <td>Brent</td>\n",
              "      <td>E09000005</td>\n",
              "      <td>71306.56698</td>\n",
              "      <td>72022.26197</td>\n",
              "      <td>72015.76274</td>\n",
              "      <td>72965.63094</td>\n",
              "      <td>73704.04743</td>\n",
              "      <td>74310.48167</td>\n",
              "      <td>74127.03788</td>\n",
              "      <td>73547.0411</td>\n",
              "      <td>...</td>\n",
              "      <td>534878.8481</td>\n",
              "      <td>550730.29995</td>\n",
              "      <td>559692.69097</td>\n",
              "      <td>578082.6615</td>\n",
              "      <td>570146.90413</td>\n",
              "      <td>566137.79926</td>\n",
              "      <td>559407.13925</td>\n",
              "      <td>556501.11179</td>\n",
              "      <td>543974.33399</td>\n",
              "      <td>530399.91639</td>\n",
              "    </tr>\n",
              "  </tbody>\n",
              "</table>\n",
              "<p>5 rows × 341 columns</p>\n",
              "</div>\n",
              "      <button class=\"colab-df-convert\" onclick=\"convertToInteractive('df-eecc4315-23dc-489b-a31d-1bf0beef9271')\"\n",
              "              title=\"Convert this dataframe to an interactive table.\"\n",
              "              style=\"display:none;\">\n",
              "        \n",
              "  <svg xmlns=\"http://www.w3.org/2000/svg\" height=\"24px\"viewBox=\"0 0 24 24\"\n",
              "       width=\"24px\">\n",
              "    <path d=\"M0 0h24v24H0V0z\" fill=\"none\"/>\n",
              "    <path d=\"M18.56 5.44l.94 2.06.94-2.06 2.06-.94-2.06-.94-.94-2.06-.94 2.06-2.06.94zm-11 1L8.5 8.5l.94-2.06 2.06-.94-2.06-.94L8.5 2.5l-.94 2.06-2.06.94zm10 10l.94 2.06.94-2.06 2.06-.94-2.06-.94-.94-2.06-.94 2.06-2.06.94z\"/><path d=\"M17.41 7.96l-1.37-1.37c-.4-.4-.92-.59-1.43-.59-.52 0-1.04.2-1.43.59L10.3 9.45l-7.72 7.72c-.78.78-.78 2.05 0 2.83L4 21.41c.39.39.9.59 1.41.59.51 0 1.02-.2 1.41-.59l7.78-7.78 2.81-2.81c.8-.78.8-2.07 0-2.86zM5.41 20L4 18.59l7.72-7.72 1.47 1.35L5.41 20z\"/>\n",
              "  </svg>\n",
              "      </button>\n",
              "      \n",
              "  <style>\n",
              "    .colab-df-container {\n",
              "      display:flex;\n",
              "      flex-wrap:wrap;\n",
              "      gap: 12px;\n",
              "    }\n",
              "\n",
              "    .colab-df-convert {\n",
              "      background-color: #E8F0FE;\n",
              "      border: none;\n",
              "      border-radius: 50%;\n",
              "      cursor: pointer;\n",
              "      display: none;\n",
              "      fill: #1967D2;\n",
              "      height: 32px;\n",
              "      padding: 0 0 0 0;\n",
              "      width: 32px;\n",
              "    }\n",
              "\n",
              "    .colab-df-convert:hover {\n",
              "      background-color: #E2EBFA;\n",
              "      box-shadow: 0px 1px 2px rgba(60, 64, 67, 0.3), 0px 1px 3px 1px rgba(60, 64, 67, 0.15);\n",
              "      fill: #174EA6;\n",
              "    }\n",
              "\n",
              "    [theme=dark] .colab-df-convert {\n",
              "      background-color: #3B4455;\n",
              "      fill: #D2E3FC;\n",
              "    }\n",
              "\n",
              "    [theme=dark] .colab-df-convert:hover {\n",
              "      background-color: #434B5C;\n",
              "      box-shadow: 0px 1px 3px 1px rgba(0, 0, 0, 0.15);\n",
              "      filter: drop-shadow(0px 1px 2px rgba(0, 0, 0, 0.3));\n",
              "      fill: #FFFFFF;\n",
              "    }\n",
              "  </style>\n",
              "\n",
              "      <script>\n",
              "        const buttonEl =\n",
              "          document.querySelector('#df-eecc4315-23dc-489b-a31d-1bf0beef9271 button.colab-df-convert');\n",
              "        buttonEl.style.display =\n",
              "          google.colab.kernel.accessAllowed ? 'block' : 'none';\n",
              "\n",
              "        async function convertToInteractive(key) {\n",
              "          const element = document.querySelector('#df-eecc4315-23dc-489b-a31d-1bf0beef9271');\n",
              "          const dataTable =\n",
              "            await google.colab.kernel.invokeFunction('convertToInteractive',\n",
              "                                                     [key], {});\n",
              "          if (!dataTable) return;\n",
              "\n",
              "          const docLinkHtml = 'Like what you see? Visit the ' +\n",
              "            '<a target=\"_blank\" href=https://colab.research.google.com/notebooks/data_table.ipynb>data table notebook</a>'\n",
              "            + ' to learn more about interactive tables.';\n",
              "          element.innerHTML = '';\n",
              "          dataTable['output_type'] = 'display_data';\n",
              "          await google.colab.output.renderOutput(dataTable, element);\n",
              "          const docLink = document.createElement('div');\n",
              "          docLink.innerHTML = docLinkHtml;\n",
              "          element.appendChild(docLink);\n",
              "        }\n",
              "      </script>\n",
              "    </div>\n",
              "  </div>\n",
              "  "
            ]
          },
          "metadata": {},
          "execution_count": 26
        }
      ]
    },
    {
      "cell_type": "markdown",
      "metadata": {
        "id": "jy8BzXHmoWEw"
      },
      "source": [
        "**2.4.Transforming the data**\n",
        "\n",
        "Remember what Wes McKinney said about tidy data? \n",
        "\n",
        "You might need to **melt** your DataFrame here. "
      ]
    },
    {
      "cell_type": "code",
      "metadata": {
        "id": "S2wM0qLuo2Zt"
      },
      "source": [
        "clean_properties = pd.melt(properties_T, id_vars= ['London_Borough', 'ID'])\n",
        "clean_properties = clean_properties.rename(columns = {0: 'Month', 'value': 'Average_price'})"
      ],
      "execution_count": 27,
      "outputs": []
    },
    {
      "cell_type": "markdown",
      "metadata": {
        "id": "7kIsgAo7o3mf"
      },
      "source": [
        "Remember to make sure your column data types are all correct. Average prices, for example, should be floating point numbers... "
      ]
    },
    {
      "cell_type": "code",
      "metadata": {
        "id": "ZcR4IHbcpOaq"
      },
      "source": [
        "clean_properties['Average_price'] = pd.to_numeric(clean_properties['Average_price'])"
      ],
      "execution_count": 28,
      "outputs": []
    },
    {
      "cell_type": "markdown",
      "metadata": {
        "id": "knLUXHLypOtw"
      },
      "source": [
        "**2.5. Cleaning the data (part 3)**\n",
        "\n",
        "Do we have an equal number of observations in the ID, Average Price, Month, and London Borough columns? Remember that there are only 32 London Boroughs. How many entries do you have in that column? \n",
        "\n",
        "Check out the contents of the London Borough column, and if you find null values, get rid of them however you see fit. "
      ]
    },
    {
      "cell_type": "code",
      "metadata": {
        "id": "BnvTW5a3p0fC"
      },
      "source": [
        "clean_properties['London_Borough'].unique()\n",
        "NaNFreeDF2 = clean_properties.dropna()\n",
        "\n",
        "# A list of non-boroughs. \n",
        "nonBoroughs = ['Inner London', 'Outer London', \n",
        "               'NORTH EAST', 'NORTH WEST', 'YORKS & THE HUMBER', \n",
        "               'EAST MIDLANDS', 'WEST MIDLANDS',\n",
        "              'EAST OF ENGLAND', 'LONDON', 'SOUTH EAST', \n",
        "              'SOUTH WEST', 'England']\n",
        "NaNFreeDF2 = NaNFreeDF2[~NaNFreeDF2.London_Borough.isin(nonBoroughs)]"
      ],
      "execution_count": 30,
      "outputs": []
    },
    {
      "cell_type": "markdown",
      "metadata": {
        "id": "PGEx6mJsp6dG"
      },
      "source": [
        "**2.6. Visualizing the data**\n",
        "\n",
        "To visualize the data, why not subset on a particular London Borough? Maybe do a line plot of Month against Average Price?"
      ]
    },
    {
      "cell_type": "code",
      "metadata": {
        "id": "nAg5pT9cqHAR",
        "colab": {
          "base_uri": "https://localhost:8080/",
          "height": 468
        },
        "outputId": "d6ffc176-f668-459f-9f1d-81c0c20e3240"
      },
      "source": [
        "df = NaNFreeDF2\n",
        "\n",
        "#First of all, make a variable called camden_prices, and assign it the result of filtering df on the following condition:\n",
        "df['London_Borough'] == 'Camden'\n",
        "camden_prices = df[df['London_Borough'] == 'Camden']\n",
        "\n",
        "# Make a variable called ax. Assign it the result of calling the plot() method, and plugging in the following values as parameters:\n",
        "# kind ='line', x = 'Month', y='Average_price'\n",
        "ax = camden_prices.plot(kind ='line', x = 'Month', y='Average_price')\n",
        "\n",
        "# Finally, call the set_ylabel() method on ax, and set that label to the string: 'Price'. \n",
        "ax.set_ylabel('Price')"
      ],
      "execution_count": 31,
      "outputs": [
        {
          "output_type": "execute_result",
          "data": {
            "text/plain": [
              "Text(0, 0.5, 'Price')"
            ]
          },
          "metadata": {},
          "execution_count": 31
        },
        {
          "output_type": "display_data",
          "data": {
            "text/plain": [
              "<Figure size 640x480 with 1 Axes>"
            ],
            "image/png": "[encoded data removed]"
          },
          "metadata": {}
        }
      ]
    },
    {
      "cell_type": "markdown",
      "metadata": {
        "id": "aWTPqSJeqHnC"
      },
      "source": [
        "To limit the number of data points you have, you might want to extract the year from every month value your *Month* column. \n",
        "\n",
        "To this end, you *could* apply a ***lambda function***. Your logic could work as follows:\n",
        "1. look through the `Month` column\n",
        "2. extract the year from each individual value in that column \n",
        "3. store that corresponding year as separate column. \n",
        "\n",
        "Whether you go ahead with this is up to you. Just so long as you answer our initial brief: which boroughs of London have seen the greatest house price increase, on average, over the past two decades? "
      ]
    },
    {
      "cell_type": "code",
      "metadata": {
        "id": "e0DF92cyqnu8"
      },
      "source": [
        "df['Year'] = df['Month'].apply(lambda t: t.year)"
      ],
      "execution_count": 32,
      "outputs": []
    },
    {
      "cell_type": "markdown",
      "metadata": {
        "id": "2knuTxAEqoJ4"
      },
      "source": [
        "**3. Modeling**\n",
        "\n",
        "Consider creating a function that will calculate a ratio of house prices, comparing the price of a house in 2018 to the price in 1998.\n",
        "\n",
        "Consider calling this function create_price_ratio.\n",
        "\n",
        "You'd want this function to:\n",
        "1. Take a filter of dfg, specifically where this filter constrains the London_Borough, as an argument. For example, one admissible argument should be: dfg[dfg['London_Borough']=='Camden'].\n",
        "2. Get the Average Price for that Borough, for the years 1998 and 2018.\n",
        "4. Calculate the ratio of the Average Price for 1998 divided by the Average Price for 2018.\n",
        "5. Return that ratio.\n",
        "\n",
        "Once you've written this function, you ultimately want to use it to iterate through all the unique London_Boroughs and work out the ratio capturing the difference of house prices between 1998 and 2018.\n",
        "\n",
        "Bear in mind: you don't have to write a function like this if you don't want to. If you can solve the brief otherwise, then great! \n",
        "\n",
        "***Hint***: This section should test the skills you acquired in:\n",
        "- Python Data Science Toolbox - Part One, all modules"
      ]
    },
    {
      "cell_type": "code",
      "metadata": {
        "id": "cKTyr437UgDa",
        "colab": {
          "base_uri": "https://localhost:8080/",
          "height": 923
        },
        "outputId": "2935e918-76c0-48d2-f1ff-5e25ac6b0be0"
      },
      "source": [
        "dfg = df.groupby(by=['London_Borough', 'Year']).mean()\n",
        "dfg = dfg.reset_index()\n",
        "def create_price_ratio(d):\n",
        "    y1998 = float(d['Average_price'][d['Year']==1998])\n",
        "    y2018 = float(d['Average_price'][d['Year']==2018])\n",
        "    ratio = [y2018/y1998]\n",
        "    return ratio\n",
        "final = {}\n",
        "# Now let's declare a for loop that will iterate through each of the unique elements of the 'London_Borough' column of our DataFrame dfg.\n",
        "# Call the iterator variable 'b'. \n",
        "for b in dfg['London_Borough'].unique():\n",
        "    # Let's make our parameter to our create_price_ratio function: i.e., we subset dfg on 'London_Borough' == b. \n",
        "    borough = dfg[dfg['London_Borough'] == b]\n",
        "    # Make a new entry in the final dictionary whose value's the result of calling create_price_ratio with the argument: borough\n",
        "    final[b] = create_price_ratio(borough)\n",
        "# We use the function and incorporate that into a new key of the dictionary \n",
        "print(final) \n",
        "\n",
        "df_ratios = pd.DataFrame(final)\n",
        "df_ratios_T = df_ratios.T\n",
        "df_ratios = df_ratios_T.reset_index()\n",
        "df_ratios.rename(columns={'index':'Borough', 0:'2018'}, inplace=True)\n",
        "top15 = df_ratios.sort_values(by='2018',ascending=False).head(15)\n",
        "\n",
        "# Let's plot the boroughs that have seen the greatest changes in price.\n",
        "# Make a variable called ax. Assign it the result of filtering top15 on 'Borough' and '2018', then calling plot(), with\n",
        "# the parameter kind = 'bar'. \n",
        "ax = top15[['Borough','2018']].plot(kind='bar')\n",
        "\n",
        "ax.set_xticklabels(top15.Borough)"
      ],
      "execution_count": 33,
      "outputs": [
        {
          "output_type": "stream",
          "name": "stdout",
          "text": [
            "{'Barking & Dagenham': [4.89661861291754], 'Barnet': [4.358195917538044], 'Bexley': [4.248977046127877], 'Brent': [4.8945544971392865], 'Bromley': [4.094784685333876], 'Camden': [4.935353408884261], 'City of London': [5.30162037758761], 'Croydon': [4.201100280024766], 'Ealing': [4.311450902121834], 'Enfield': [4.263471583495811], 'Greenwich': [4.7630363473291935], 'Hackney': [6.198285561008663], 'Hammersmith & Fulham': [4.13779810193623], 'Haringey': [5.134624964136042], 'Harrow': [4.0591964329643195], 'Havering': [4.325230371335307], 'Hillingdon': [4.2002730803844575], 'Hounslow': [3.976409106143329], 'Islington': [4.844048012802297], 'Kensington & Chelsea': [5.082465066092464], 'Kingston upon Thames': [4.270549521484271], 'Lambeth': [4.957751163514062], 'Lewisham': [5.449221041059686], 'Merton': [4.741273313294603], 'Newham': [5.305390437201879], 'Redbridge': [4.471182006097364], 'Richmond upon Thames': [4.005161895721457], 'Southwark': [5.516485302379378], 'Sutton': [4.118522608573157], 'Tower Hamlets': [4.62670104006116], 'Waltham Forest': [5.83475580932281], 'Wandsworth': [4.75770934773927], 'Westminster': [5.353565392605412]}\n"
          ]
        },
        {
          "output_type": "stream",
          "name": "stderr",
          "text": [
            "<ipython-input-33-678834fbf936>:1: FutureWarning: The default value of numeric_only in DataFrameGroupBy.mean is deprecated. In a future version, numeric_only will default to False. Either specify numeric_only or select only columns which should be valid for the function.\n",
            "  dfg = df.groupby(by=['London_Borough', 'Year']).mean()\n"
          ]
        },
        {
          "output_type": "execute_result",
          "data": {
            "text/plain": [
              "[Text(0, 0, 'Hackney'),\n",
              " Text(1, 0, 'Waltham Forest'),\n",
              " Text(2, 0, 'Southwark'),\n",
              " Text(3, 0, 'Lewisham'),\n",
              " Text(4, 0, 'Westminster'),\n",
              " Text(5, 0, 'Newham'),\n",
              " Text(6, 0, 'City of London'),\n",
              " Text(7, 0, 'Haringey'),\n",
              " Text(8, 0, 'Kensington & Chelsea'),\n",
              " Text(9, 0, 'Lambeth'),\n",
              " Text(10, 0, 'Camden'),\n",
              " Text(11, 0, 'Barking & Dagenham'),\n",
              " Text(12, 0, 'Brent'),\n",
              " Text(13, 0, 'Islington'),\n",
              " Text(14, 0, 'Greenwich')]"
            ]
          },
          "metadata": {},
          "execution_count": 33
        },
        {
          "output_type": "display_data",
          "data": {
            "text/plain": [
              "<Figure size 640x480 with 1 Axes>"
            ],
            "image/png": "[encoded data removed]"
          },
          "metadata": {}
        }
      ]
    },
    {
      "cell_type": "markdown",
      "metadata": {
        "id": "NzYUI7FxJpgv"
      },
      "source": [
        "### 4. Conclusion\n",
        "What can you conclude? Type out your conclusion below. \n",
        "\n",
        "Look back at your notebook. Think about how you might summarize what you have done, and prepare a quick presentation on it to your mentor at your next meeting. \n",
        "\n",
        "We hope you enjoyed this practical project. It should have consolidated your data hygiene and pandas skills by looking at a real-world problem involving just the kind of dataset you might encounter as a budding data scientist. Congratulations, and looking forward to seeing you at the next step in the course! "
      ]
    },
    {
      "cell_type": "markdown",
      "source": [
        "Over the last 2 decades, the Hackney borough has the highest price increase, which is roughly more than 6 folds. House prices in the fifteen boroughs that have highest price increase increases roughly 5 times. "
      ],
      "metadata": {
        "id": "w3ZVnyafAyuo"
      }
    }
  ]
}